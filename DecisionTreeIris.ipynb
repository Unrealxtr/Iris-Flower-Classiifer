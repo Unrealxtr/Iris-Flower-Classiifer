{
 "cells": [
  {
   "cell_type": "code",
   "execution_count": 27,
   "metadata": {},
   "outputs": [],
   "source": [
    "#necessary header files\n",
    "import numpy as np\n",
    "import pandas as pd\n",
    "from sklearn.metrics import confusion_matrix\n",
    "from sklearn.model_selection import train_test_split\n",
    "from sklearn.tree import DecisionTreeClassifier\n",
    "from sklearn.metrics import accuracy_score\n",
    "from sklearn.metrics import classification_report\n",
    "from sklearn.preprocessing import LabelEncoder\n",
    "\n",
    "from sklearn.externals.six import StringIO  \n",
    "from IPython.display import Image  \n",
    "from sklearn.tree import export_graphviz\n",
    "import pydotplus\n",
    "from shutil import copyfile"
   ]
  },
  {
   "cell_type": "code",
   "execution_count": 29,
   "metadata": {},
   "outputs": [],
   "source": [
    "data=pd.read_csv(r'C:\\Ecko\\CSV\\iris.csv')\n",
    "datacopy=data"
   ]
  },
  {
   "cell_type": "code",
   "execution_count": 30,
   "metadata": {},
   "outputs": [
    {
     "data": {
      "text/plain": [
       "array([[2, 4.9, 3.0, 1.4, 0.2, 'Iris-setosa'],\n",
       "       [3, 4.7, 3.2, 1.3, 0.2, 'Iris-setosa'],\n",
       "       [4, 4.6, 3.1, 1.5, 0.2, 'Iris-setosa'],\n",
       "       [5, 5.0, 3.6, 1.4, 0.2, 'Iris-setosa'],\n",
       "       [6, 5.4, 3.9, 1.7, 0.4, 'Iris-setosa'],\n",
       "       [7, 4.6, 3.4, 1.4, 0.3, 'Iris-setosa'],\n",
       "       [8, 5.0, 3.4, 1.5, 0.2, 'Iris-setosa'],\n",
       "       [9, 4.4, 2.9, 1.4, 0.2, 'Iris-setosa'],\n",
       "       [10, 4.9, 3.1, 1.5, 0.1, 'Iris-setosa'],\n",
       "       [11, 5.4, 3.7, 1.5, 0.2, 'Iris-setosa'],\n",
       "       [12, 4.8, 3.4, 1.6, 0.2, 'Iris-setosa'],\n",
       "       [13, 4.8, 3.0, 1.4, 0.1, 'Iris-setosa'],\n",
       "       [14, 4.3, 3.0, 1.1, 0.1, 'Iris-setosa'],\n",
       "       [15, 5.8, 4.0, 1.2, 0.2, 'Iris-setosa'],\n",
       "       [16, 5.7, 4.4, 1.5, 0.4, 'Iris-setosa'],\n",
       "       [17, 5.4, 3.9, 1.3, 0.4, 'Iris-setosa'],\n",
       "       [18, 5.1, 3.5, 1.4, 0.3, 'Iris-setosa'],\n",
       "       [19, 5.7, 3.8, 1.7, 0.3, 'Iris-setosa'],\n",
       "       [20, 5.1, 3.8, 1.5, 0.3, 'Iris-setosa'],\n",
       "       [21, 5.4, 3.4, 1.7, 0.2, 'Iris-setosa'],\n",
       "       [22, 5.1, 3.7, 1.5, 0.4, 'Iris-setosa'],\n",
       "       [23, 4.6, 3.6, 1.0, 0.2, 'Iris-setosa'],\n",
       "       [24, 5.1, 3.3, 1.7, 0.5, 'Iris-setosa'],\n",
       "       [25, 4.8, 3.4, 1.9, 0.2, 'Iris-setosa'],\n",
       "       [26, 5.0, 3.0, 1.6, 0.2, 'Iris-setosa'],\n",
       "       [27, 5.0, 3.4, 1.6, 0.4, 'Iris-setosa'],\n",
       "       [28, 5.2, 3.5, 1.5, 0.2, 'Iris-setosa'],\n",
       "       [29, 5.2, 3.4, 1.4, 0.2, 'Iris-setosa'],\n",
       "       [30, 4.7, 3.2, 1.6, 0.2, 'Iris-setosa'],\n",
       "       [31, 4.8, 3.1, 1.6, 0.2, 'Iris-setosa'],\n",
       "       [32, 5.4, 3.4, 1.5, 0.4, 'Iris-setosa'],\n",
       "       [33, 5.2, 4.1, 1.5, 0.1, 'Iris-setosa'],\n",
       "       [34, 5.5, 4.2, 1.4, 0.2, 'Iris-setosa'],\n",
       "       [35, 4.9, 3.1, 1.5, 0.1, 'Iris-setosa'],\n",
       "       [36, 5.0, 3.2, 1.2, 0.2, 'Iris-setosa'],\n",
       "       [37, 5.5, 3.5, 1.3, 0.2, 'Iris-setosa'],\n",
       "       [38, 4.9, 3.1, 1.5, 0.1, 'Iris-setosa'],\n",
       "       [39, 4.4, 3.0, 1.3, 0.2, 'Iris-setosa'],\n",
       "       [40, 5.1, 3.4, 1.5, 0.2, 'Iris-setosa'],\n",
       "       [41, 5.0, 3.5, 1.3, 0.3, 'Iris-setosa'],\n",
       "       [42, 4.5, 2.3, 1.3, 0.3, 'Iris-setosa'],\n",
       "       [43, 4.4, 3.2, 1.3, 0.2, 'Iris-setosa'],\n",
       "       [44, 5.0, 3.5, 1.6, 0.6, 'Iris-setosa'],\n",
       "       [45, 5.1, 3.8, 1.9, 0.4, 'Iris-setosa'],\n",
       "       [46, 4.8, 3.0, 1.4, 0.3, 'Iris-setosa'],\n",
       "       [47, 5.1, 3.8, 1.6, 0.2, 'Iris-setosa'],\n",
       "       [48, 4.6, 3.2, 1.4, 0.2, 'Iris-setosa'],\n",
       "       [49, 5.3, 3.7, 1.5, 0.2, 'Iris-setosa'],\n",
       "       [50, 5.0, 3.3, 1.4, 0.2, 'Iris-setosa'],\n",
       "       [51, 7.0, 3.2, 4.7, 1.4, 'Iris-versicolor'],\n",
       "       [52, 6.4, 3.2, 4.5, 1.5, 'Iris-versicolor'],\n",
       "       [53, 6.9, 3.1, 4.9, 1.5, 'Iris-versicolor'],\n",
       "       [54, 5.5, 2.3, 4.0, 1.3, 'Iris-versicolor'],\n",
       "       [55, 6.5, 2.8, 4.6, 1.5, 'Iris-versicolor'],\n",
       "       [56, 5.7, 2.8, 4.5, 1.3, 'Iris-versicolor'],\n",
       "       [57, 6.3, 3.3, 4.7, 1.6, 'Iris-versicolor'],\n",
       "       [58, 4.9, 2.4, 3.3, 1.0, 'Iris-versicolor'],\n",
       "       [59, 6.6, 2.9, 4.6, 1.3, 'Iris-versicolor'],\n",
       "       [60, 5.2, 2.7, 3.9, 1.4, 'Iris-versicolor'],\n",
       "       [61, 5.0, 2.0, 3.5, 1.0, 'Iris-versicolor'],\n",
       "       [62, 5.9, 3.0, 4.2, 1.5, 'Iris-versicolor'],\n",
       "       [63, 6.0, 2.2, 4.0, 1.0, 'Iris-versicolor'],\n",
       "       [64, 6.1, 2.9, 4.7, 1.4, 'Iris-versicolor'],\n",
       "       [65, 5.6, 2.9, 3.6, 1.3, 'Iris-versicolor'],\n",
       "       [66, 6.7, 3.1, 4.4, 1.4, 'Iris-versicolor'],\n",
       "       [67, 5.6, 3.0, 4.5, 1.5, 'Iris-versicolor'],\n",
       "       [68, 5.8, 2.7, 4.1, 1.0, 'Iris-versicolor'],\n",
       "       [69, 6.2, 2.2, 4.5, 1.5, 'Iris-versicolor'],\n",
       "       [70, 5.6, 2.5, 3.9, 1.1, 'Iris-versicolor'],\n",
       "       [71, 5.9, 3.2, 4.8, 1.8, 'Iris-versicolor'],\n",
       "       [72, 6.1, 2.8, 4.0, 1.3, 'Iris-versicolor'],\n",
       "       [73, 6.3, 2.5, 4.9, 1.5, 'Iris-versicolor'],\n",
       "       [74, 6.1, 2.8, 4.7, 1.2, 'Iris-versicolor'],\n",
       "       [75, 6.4, 2.9, 4.3, 1.3, 'Iris-versicolor'],\n",
       "       [76, 6.6, 3.0, 4.4, 1.4, 'Iris-versicolor'],\n",
       "       [77, 6.8, 2.8, 4.8, 1.4, 'Iris-versicolor'],\n",
       "       [78, 6.7, 3.0, 5.0, 1.7, 'Iris-versicolor'],\n",
       "       [79, 6.0, 2.9, 4.5, 1.5, 'Iris-versicolor'],\n",
       "       [80, 5.7, 2.6, 3.5, 1.0, 'Iris-versicolor'],\n",
       "       [81, 5.5, 2.4, 3.8, 1.1, 'Iris-versicolor'],\n",
       "       [82, 5.5, 2.4, 3.7, 1.0, 'Iris-versicolor'],\n",
       "       [83, 5.8, 2.7, 3.9, 1.2, 'Iris-versicolor'],\n",
       "       [84, 6.0, 2.7, 5.1, 1.6, 'Iris-versicolor'],\n",
       "       [85, 5.4, 3.0, 4.5, 1.5, 'Iris-versicolor'],\n",
       "       [86, 6.0, 3.4, 4.5, 1.6, 'Iris-versicolor'],\n",
       "       [87, 6.7, 3.1, 4.7, 1.5, 'Iris-versicolor'],\n",
       "       [88, 6.3, 2.3, 4.4, 1.3, 'Iris-versicolor'],\n",
       "       [89, 5.6, 3.0, 4.1, 1.3, 'Iris-versicolor'],\n",
       "       [90, 5.5, 2.5, 4.0, 1.3, 'Iris-versicolor'],\n",
       "       [91, 5.5, 2.6, 4.4, 1.2, 'Iris-versicolor'],\n",
       "       [92, 6.1, 3.0, 4.6, 1.4, 'Iris-versicolor'],\n",
       "       [93, 5.8, 2.6, 4.0, 1.2, 'Iris-versicolor'],\n",
       "       [94, 5.0, 2.3, 3.3, 1.0, 'Iris-versicolor'],\n",
       "       [95, 5.6, 2.7, 4.2, 1.3, 'Iris-versicolor'],\n",
       "       [96, 5.7, 3.0, 4.2, 1.2, 'Iris-versicolor'],\n",
       "       [97, 5.7, 2.9, 4.2, 1.3, 'Iris-versicolor'],\n",
       "       [98, 6.2, 2.9, 4.3, 1.3, 'Iris-versicolor'],\n",
       "       [99, 5.1, 2.5, 3.0, 1.1, 'Iris-versicolor'],\n",
       "       [100, 5.7, 2.8, 4.1, 1.3, 'Iris-versicolor'],\n",
       "       [101, 6.3, 3.3, 6.0, 2.5, 'Iris-virginica'],\n",
       "       [102, 5.8, 2.7, 5.1, 1.9, 'Iris-virginica'],\n",
       "       [103, 7.1, 3.0, 5.9, 2.1, 'Iris-virginica'],\n",
       "       [104, 6.3, 2.9, 5.6, 1.8, 'Iris-virginica'],\n",
       "       [105, 6.5, 3.0, 5.8, 2.2, 'Iris-virginica'],\n",
       "       [106, 7.6, 3.0, 6.6, 2.1, 'Iris-virginica'],\n",
       "       [107, 4.9, 2.5, 4.5, 1.7, 'Iris-virginica'],\n",
       "       [108, 7.3, 2.9, 6.3, 1.8, 'Iris-virginica'],\n",
       "       [109, 6.7, 2.5, 5.8, 1.8, 'Iris-virginica'],\n",
       "       [110, 7.2, 3.6, 6.1, 2.5, 'Iris-virginica'],\n",
       "       [111, 6.5, 3.2, 5.1, 2.0, 'Iris-virginica'],\n",
       "       [112, 6.4, 2.7, 5.3, 1.9, 'Iris-virginica'],\n",
       "       [113, 6.8, 3.0, 5.5, 2.1, 'Iris-virginica'],\n",
       "       [114, 5.7, 2.5, 5.0, 2.0, 'Iris-virginica'],\n",
       "       [115, 5.8, 2.8, 5.1, 2.4, 'Iris-virginica'],\n",
       "       [116, 6.4, 3.2, 5.3, 2.3, 'Iris-virginica'],\n",
       "       [117, 6.5, 3.0, 5.5, 1.8, 'Iris-virginica'],\n",
       "       [118, 7.7, 3.8, 6.7, 2.2, 'Iris-virginica'],\n",
       "       [119, 7.7, 2.6, 6.9, 2.3, 'Iris-virginica'],\n",
       "       [120, 6.0, 2.2, 5.0, 1.5, 'Iris-virginica']], dtype=object)"
      ]
     },
     "execution_count": 30,
     "metadata": {},
     "output_type": "execute_result"
    }
   ],
   "source": [
    "datacopy.values[1:120,]"
   ]
  },
  {
   "cell_type": "code",
   "execution_count": 60,
   "metadata": {
    "scrolled": false
   },
   "outputs": [],
   "source": [
    "lblencoder=LabelEncoder()\n",
    "data['Species']=lblencoder.fit_transform(data['Species'])\n",
    "feats=['Id', 'SepalLengthCm', 'SepalWidthCm', 'PetalLengthCm','PetalWidthCm']\n",
    "x=data[feats].values\n",
    "y=data['Species'].values\n",
    "xtrain,xtest,ytrain,ytest=train_test_split(x,y,test_size=0.3,random_state=0)"
   ]
  },
  {
   "cell_type": "code",
   "execution_count": 61,
   "metadata": {},
   "outputs": [],
   "source": [
    "def ginitrain(xtrain,xtest,ytrain):\n",
    "    clf_gini=DecisionTreeClassifier(criterion='gini',random_state=42)\n",
    "    clf_gini.fit(xtrain,ytrain)\n",
    "    return clf_gini"
   ]
  },
  {
   "cell_type": "code",
   "execution_count": 62,
   "metadata": {},
   "outputs": [],
   "source": [
    "def entropytrain(xtrain,xtest,ytrain):\n",
    "    clf_entropy=DecisionTreeClassifier(criterion='entropy',random_state=42)\n",
    "    clf_entropy.fit(xtrain,ytrain)\n",
    "    return clf_entropy"
   ]
  },
  {
   "cell_type": "code",
   "execution_count": 46,
   "metadata": {},
   "outputs": [],
   "source": [
    "def prediction(xtest,clf_object):\n",
    "    ypred=clf_object.predict(xtest)\n",
    "    print(\"predict values:\")\n",
    "    print(ypred)\n",
    "    return ypred"
   ]
  },
  {
   "cell_type": "code",
   "execution_count": 38,
   "metadata": {},
   "outputs": [],
   "source": [
    "def accuracy(ytest,ypred):\n",
    "    print(\"Confusion matrix:\",confusion_matrix(ytest,ypred))\n",
    "    print(\"Accuracy:\",accuracy_score(ytest,ypred)*100)\n",
    "    print(\"Report:\",classification_report(ytest,ypred))"
   ]
  },
  {
   "cell_type": "code",
   "execution_count": 63,
   "metadata": {
    "scrolled": true
   },
   "outputs": [
    {
     "name": "stdout",
     "output_type": "stream",
     "text": [
      "Result using gini index:\n",
      "predict values:\n",
      "[2 1 0 2 0 1 0 1 1 1 2 1 1 1 1 0 1 1 0 0 2 1 0 0 2 0 0 1 1 0 2 1 0 2 2 1 0\n",
      " 1 1 1 2 0 2 0 0]\n",
      "Confusion matrix: [[16  0  0]\n",
      " [ 0 18  0]\n",
      " [ 0  1 10]]\n",
      "Accuracy: 97.77777777777777\n",
      "Report:               precision    recall  f1-score   support\n",
      "\n",
      "           0       1.00      1.00      1.00        16\n",
      "           1       0.95      1.00      0.97        18\n",
      "           2       1.00      0.91      0.95        11\n",
      "\n",
      "    accuracy                           0.98        45\n",
      "   macro avg       0.98      0.97      0.98        45\n",
      "weighted avg       0.98      0.98      0.98        45\n",
      "\n",
      "Result using entropy:\n",
      "predict values:\n",
      "[2 1 0 2 0 1 0 1 1 1 2 1 1 1 1 0 1 1 0 0 2 1 0 0 2 0 0 1 1 0 2 1 0 2 2 1 0\n",
      " 1 1 1 2 0 2 0 0]\n",
      "Confusion matrix: [[16  0  0]\n",
      " [ 0 18  0]\n",
      " [ 0  1 10]]\n",
      "Accuracy: 97.77777777777777\n",
      "Report:               precision    recall  f1-score   support\n",
      "\n",
      "           0       1.00      1.00      1.00        16\n",
      "           1       0.95      1.00      0.97        18\n",
      "           2       1.00      0.91      0.95        11\n",
      "\n",
      "    accuracy                           0.98        45\n",
      "   macro avg       0.98      0.97      0.98        45\n",
      "weighted avg       0.98      0.98      0.98        45\n",
      "\n"
     ]
    }
   ],
   "source": [
    "clf_gini=ginitrain(xtrain,xtest,ytrain)\n",
    "clf_entropy=entropytrain(xtrain,xtest,ytrain)\n",
    "print(\"Result using gini index:\")\n",
    "ypredgini=prediction(xtest,clf_gini)\n",
    "accuracy(ytest,ypredgini)\n",
    "print(\"Result using entropy:\")\n",
    "ypredentropy=prediction(xtest,clf_entropy)\n",
    "accuracy(ytest,ypredentropy)"
   ]
  },
  {
   "cell_type": "code",
   "execution_count": 65,
   "metadata": {},
   "outputs": [
    {
     "data": {
      "image/png": "[encoded data removed]",
      "text/plain": [
       "<IPython.core.display.Image object>"
      ]
     },
     "execution_count": 65,
     "metadata": {},
     "output_type": "execute_result"
    }
   ],
   "source": [
    "#displaying graph\n",
    "dot_data = StringIO()\n",
    "export_graphviz(clf_gini, out_file=dot_data,  filled=True, rounded=True,special_characters=True,feature_names=feats,class_names=['iris-setosa','iris-versicolor','iris-virginica'])\n",
    "graph = pydotplus.graph_from_dot_data(dot_data.getvalue())  \n",
    "Image(graph.create_png())"
   ]
  },
  {
   "cell_type": "code",
   "execution_count": null,
   "metadata": {},
   "outputs": [],
   "source": []
  }
 ],
 "metadata": {
  "kernelspec": {
   "display_name": "Python 3",
   "language": "python",
   "name": "python3"
  },
  "language_info": {
   "codemirror_mode": {
    "name": "ipython",
    "version": 3
   },
   "file_extension": ".py",
   "mimetype": "text/x-python",
   "name": "python",
   "nbconvert_exporter": "python",
   "pygments_lexer": "ipython3",
   "version": "3.7.6"
  }
 },
 "nbformat": 4,
 "nbformat_minor": 2
}
